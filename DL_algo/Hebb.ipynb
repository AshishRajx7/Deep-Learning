{
  "nbformat": 4,
  "nbformat_minor": 0,
  "metadata": {
    "colab": {
      "provenance": []
    },
    "kernelspec": {
      "name": "python3",
      "display_name": "Python 3"
    },
    "language_info": {
      "name": "python"
    }
  },
  "cells": [
    {
      "cell_type": "code",
      "execution_count": null,
      "metadata": {
        "id": "bam8hJBK5AMQ"
      },
      "outputs": [],
      "source": [
        "import numpy as np\n",
        "import matplotlib.pyplot as plt\n",
        "\n",
        "X = np.array([[1, 1],\n",
        "              [1, -1],\n",
        "              [-1, 1],\n",
        "              [-1, -1]])\n",
        "y = np.array([1, -1, -1, -1])\n",
        "\n",
        "weights = np.zeros(2)\n",
        "learning_rate = 0.1\n",
        "epochs = 10\n",
        "\n",
        "for epoch in range(epochs):\n",
        "    for i in range(len(X)):\n",
        "        x = X[i]\n",
        "        target = y[i]\n",
        "        weights += learning_rate * target * x\n",
        "    print(f\"Epoch {epoch + 1}: Weights: {weights}\")\n",
        "\n",
        "predictions = np.sign(np.dot(X, weights))\n",
        "accuracy = np.mean(predictions == y) * 100\n",
        "\n",
        "print(f\"\\nAccuracy after {epochs} epochs: {accuracy:.2f}%\")\n",
        "\n",
        "x1_vals = np.linspace(-2, 2, 100)\n",
        "x2_vals = -(weights[0] * x1_vals) / weights[1]\n",
        "\n",
        "plt.figure(figsize=(8, 6))\n",
        "plt.scatter(X[:, 0], X[:, 1], c=y, cmap='coolwarm', label=\"Data points\")\n",
        "plt.plot(x1_vals, x2_vals, color='black', label=\"Decision boundary\")\n",
        "plt.xlabel(\"x1\")\n",
        "plt.ylabel(\"x2\")\n",
        "plt.title(\"Hebbian Learning for AND Function\")\n",
        "plt.legend()\n",
        "plt.grid(True)\n",
        "plt.show()\n"
      ]
    }
  ]
}